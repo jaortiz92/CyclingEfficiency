{
 "cells": [
  {
   "cell_type": "code",
   "execution_count": 2,
   "metadata": {},
   "outputs": [],
   "source": [
    "#%config IPCompleter.use_jedi=False\n",
    "%load_ext autoreload\n",
    "%autoreload 2"
   ]
  },
  {
   "cell_type": "code",
   "execution_count": 3,
   "metadata": {},
   "outputs": [],
   "source": [
    "import sys \n",
    "import pandas as pd\n",
    "import numpy as np\n",
    "\n",
    "from pandas._libs.tslibs.timestamps import Timestamp\n",
    "from pandas.core.frame import DataFrame\n",
    "from pandas.core.series import Series\n",
    "\n",
    "sys.path.append('..')\n",
    "from cyclingEfficiency import Reader, Paths\n"
   ]
  },
  {
   "cell_type": "code",
   "execution_count": 7,
   "metadata": {},
   "outputs": [],
   "source": [
    "def search_weight(\n",
    "    date_to_search: Timestamp, df_weight: DataFrame, before: bool = False\n",
    ") -> float:\n",
    "    result: float = np.nan\n",
    "    if before:\n",
    "        df_result: DataFrame = df_weight[\n",
    "            df_weight['date']<=date_to_search\n",
    "        ]\n",
    "        if df_result.shape[0] > 0:\n",
    "            result = df_result.iloc[-1,1]    \n",
    "    else: \n",
    "        df_result: DataFrame = df_weight[\n",
    "            df_weight['date']>=date_to_search\n",
    "        ]\n",
    "        result = df_result.iloc[-1,1]\n",
    "    return result\n",
    "\n",
    "data =  Reader().data\n",
    "\n",
    "date_min: Timestamp = data['activities']['date'].min()\n",
    "date_max: Timestamp = data['activities']['date'].max()\n",
    "\n",
    "weight: DataFrame = pd.DataFrame(\n",
    "    pd.date_range(\n",
    "        start=date_min,\n",
    "        end=date_max,\n",
    "        freq='d'\n",
    "    ),\n",
    "    columns=['date']\n",
    ")\n",
    "\n",
    "weight['weight'] = weight['date'].apply(\n",
    "    search_weight, df_weight=data['weight'], before=True\n",
    ")"
   ]
  },
  {
   "cell_type": "code",
   "execution_count": 8,
   "metadata": {},
   "outputs": [],
   "source": [
    "df = pd.merge(\n",
    "    left=data['activities'],\n",
    "    right=weight,\n",
    "    on='date',\n",
    "    how='left'\n",
    ")"
   ]
  },
  {
   "cell_type": "code",
   "execution_count": 9,
   "metadata": {},
   "outputs": [
    {
     "name": "stdout",
     "output_type": "stream",
     "text": [
      "<class 'pandas.core.frame.DataFrame'>\n",
      "Int64Index: 3499537 entries, 0 to 3499536\n",
      "Data columns (total 26 columns):\n",
      " #   Column     Dtype         \n",
      "---  ------     -----         \n",
      " 0   secs       int64         \n",
      " 1   cad        float64       \n",
      " 2   hr         float64       \n",
      " 3   km         float64       \n",
      " 4   kph        float64       \n",
      " 5   nm         int64         \n",
      " 6   watts      float64       \n",
      " 7   alt        float64       \n",
      " 8   lon        float64       \n",
      " 9   lat        float64       \n",
      " 10  headwind   int64         \n",
      " 11  slope      float64       \n",
      " 12  temp       float64       \n",
      " 13  interval   int64         \n",
      " 14  lrbalance  int64         \n",
      " 15  lte        int64         \n",
      " 16  rte        int64         \n",
      " 17  lps        int64         \n",
      " 18  rps        int64         \n",
      " 19  smo2       int64         \n",
      " 20  thb        int64         \n",
      " 21  o2hb       int64         \n",
      " 22  hhb        int64         \n",
      " 23  datetime   datetime64[ns]\n",
      " 24  date       datetime64[ns]\n",
      " 25  weight     float64       \n",
      "dtypes: datetime64[ns](2), float64(11), int64(13)\n",
      "memory usage: 720.9 MB\n"
     ]
    }
   ],
   "source": [
    "df.info()"
   ]
  },
  {
   "cell_type": "code",
   "execution_count": 15,
   "metadata": {},
   "outputs": [],
   "source": [
    "df_filtered = df[\n",
    "    (df['kph'] > 0) &\n",
    "    (df['cad'] > 0) &\n",
    "    (df['hr'] > 0) &\n",
    "    (df['slope'] >= 0) &\n",
    "    (~df['weight'].isna())\n",
    "].reset_index()"
   ]
  },
  {
   "cell_type": "code",
   "execution_count": 16,
   "metadata": {},
   "outputs": [
    {
     "data": {
      "text/plain": [
       "(657637, 27)"
      ]
     },
     "execution_count": 16,
     "metadata": {},
     "output_type": "execute_result"
    }
   ],
   "source": [
    "df_filtered.shape"
   ]
  },
  {
   "cell_type": "code",
   "execution_count": 17,
   "metadata": {},
   "outputs": [
    {
     "name": "stdout",
     "output_type": "stream",
     "text": [
      "<class 'pandas.core.frame.DataFrame'>\n",
      "RangeIndex: 657637 entries, 0 to 657636\n",
      "Data columns (total 27 columns):\n",
      " #   Column     Non-Null Count   Dtype         \n",
      "---  ------     --------------   -----         \n",
      " 0   index      657637 non-null  int64         \n",
      " 1   secs       657637 non-null  int64         \n",
      " 2   cad        657637 non-null  float64       \n",
      " 3   hr         657637 non-null  float64       \n",
      " 4   km         657637 non-null  float64       \n",
      " 5   kph        657637 non-null  float64       \n",
      " 6   nm         657637 non-null  int64         \n",
      " 7   watts      657637 non-null  float64       \n",
      " 8   alt        657637 non-null  float64       \n",
      " 9   lon        657637 non-null  float64       \n",
      " 10  lat        657637 non-null  float64       \n",
      " 11  headwind   657637 non-null  int64         \n",
      " 12  slope      657637 non-null  float64       \n",
      " 13  temp       657637 non-null  float64       \n",
      " 14  interval   657637 non-null  int64         \n",
      " 15  lrbalance  657637 non-null  int64         \n",
      " 16  lte        657637 non-null  int64         \n",
      " 17  rte        657637 non-null  int64         \n",
      " 18  lps        657637 non-null  int64         \n",
      " 19  rps        657637 non-null  int64         \n",
      " 20  smo2       657637 non-null  int64         \n",
      " 21  thb        657637 non-null  int64         \n",
      " 22  o2hb       657637 non-null  int64         \n",
      " 23  hhb        657637 non-null  int64         \n",
      " 24  datetime   657637 non-null  datetime64[ns]\n",
      " 25  date       657637 non-null  datetime64[ns]\n",
      " 26  weight     657637 non-null  float64       \n",
      "dtypes: datetime64[ns](2), float64(11), int64(14)\n",
      "memory usage: 135.5 MB\n"
     ]
    }
   ],
   "source": [
    "df_filtered.info()"
   ]
  },
  {
   "cell_type": "code",
   "execution_count": null,
   "metadata": {},
   "outputs": [],
   "source": []
  }
 ],
 "metadata": {
  "kernelspec": {
   "display_name": "Machine_Learning",
   "language": "python",
   "name": "python3"
  },
  "language_info": {
   "codemirror_mode": {
    "name": "ipython",
    "version": 3
   },
   "file_extension": ".py",
   "mimetype": "text/x-python",
   "name": "python",
   "nbconvert_exporter": "python",
   "pygments_lexer": "ipython3",
   "version": "3.11.6"
  }
 },
 "nbformat": 4,
 "nbformat_minor": 2
}
