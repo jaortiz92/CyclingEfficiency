{
 "cells": [
  {
   "cell_type": "code",
   "execution_count": 14,
   "metadata": {},
   "outputs": [
    {
     "name": "stdout",
     "output_type": "stream",
     "text": [
      "The autoreload extension is already loaded. To reload it, use:\n",
      "  %reload_ext autoreload\n"
     ]
    }
   ],
   "source": [
    "#%config IPCompleter.use_jedi=False\n",
    "%load_ext autoreload\n",
    "%autoreload 2"
   ]
  },
  {
   "cell_type": "code",
   "execution_count": 15,
   "metadata": {},
   "outputs": [],
   "source": [
    "import sys \n",
    "import pandas as pd\n",
    "import numpy as np\n",
    "\n",
    "from pandas._libs.tslibs.timestamps import Timestamp\n",
    "from pandas.core.frame import DataFrame\n",
    "from pandas.core.series import Series\n",
    "\n",
    "\n",
    "sys.path.append('..')\n",
    "from cyclingEfficiency import Reader, Paths, Constants"
   ]
  },
  {
   "cell_type": "markdown",
   "metadata": {},
   "source": [
    "## ¿Soy más eficiente en el uso de mi energía pedaleando con alta o baja cadencia? ¿Es diferente si estoy en terreno llano o en montaña?"
   ]
  },
  {
   "cell_type": "markdown",
   "metadata": {},
   "source": [
    "## Limpieza de datos\n",
    "Primero se debe leer la información. En este caso, se debe unir la información de cada actividad con el peso más cercano a la fecha del entrenamiento, ya que esta información se encuentra en archivos distintos."
   ]
  },
  {
   "cell_type": "code",
   "execution_count": 16,
   "metadata": {},
   "outputs": [],
   "source": [
    "def search_weight(\n",
    "    date_to_search: Timestamp, df_weight: DataFrame, before: bool = False\n",
    ") -> float:\n",
    "    result: float = np.nan\n",
    "    if before:\n",
    "        df_result: DataFrame = df_weight[\n",
    "            df_weight['date']<=date_to_search\n",
    "        ]\n",
    "        if df_result.shape[0] > 0:\n",
    "            result = df_result.iloc[0,1]    \n",
    "    else: \n",
    "        df_result: DataFrame = df_weight[\n",
    "            df_weight['date']>=date_to_search\n",
    "        ]\n",
    "        if df_result.shape[0] > 0:\n",
    "            result = df_result.iloc[-1,1]\n",
    "    return result\n",
    "\n",
    "data =  Reader().data\n",
    "\n",
    "date_min: Timestamp = data['activities']['date'].min()\n",
    "date_max: Timestamp = data['activities']['date'].max()\n",
    "\n",
    "weight: DataFrame = pd.DataFrame(\n",
    "    pd.date_range(\n",
    "        start=date_min,\n",
    "        end=date_max,\n",
    "        freq='d'\n",
    "    ),\n",
    "    columns=['date']\n",
    ")\n",
    "\n",
    "weight['weight'] = weight['date'].apply(\n",
    "    search_weight, df_weight=data['weight'], before=True\n",
    ")"
   ]
  },
  {
   "cell_type": "code",
   "execution_count": 17,
   "metadata": {},
   "outputs": [],
   "source": [
    "df = pd.merge(\n",
    "    left=data['activities'],\n",
    "    right=weight,\n",
    "    on='date',\n",
    "    how='left'\n",
    ")"
   ]
  },
  {
   "cell_type": "code",
   "execution_count": 18,
   "metadata": {},
   "outputs": [
    {
     "name": "stdout",
     "output_type": "stream",
     "text": [
      "<class 'pandas.core.frame.DataFrame'>\n",
      "RangeIndex: 3513970 entries, 0 to 3513969\n",
      "Data columns (total 26 columns):\n",
      " #   Column     Dtype         \n",
      "---  ------     -----         \n",
      " 0   secs       int64         \n",
      " 1   cad        float64       \n",
      " 2   hr         float64       \n",
      " 3   km         float64       \n",
      " 4   kph        float64       \n",
      " 5   nm         int64         \n",
      " 6   watts      float64       \n",
      " 7   alt        float64       \n",
      " 8   lon        float64       \n",
      " 9   lat        float64       \n",
      " 10  headwind   int64         \n",
      " 11  slope      float64       \n",
      " 12  temp       float64       \n",
      " 13  interval   int64         \n",
      " 14  lrbalance  int64         \n",
      " 15  lte        int64         \n",
      " 16  rte        int64         \n",
      " 17  lps        int64         \n",
      " 18  rps        int64         \n",
      " 19  smo2       int64         \n",
      " 20  thb        int64         \n",
      " 21  o2hb       int64         \n",
      " 22  hhb        int64         \n",
      " 23  datetime   datetime64[us]\n",
      " 24  date       datetime64[us]\n",
      " 25  weight     float64       \n",
      "dtypes: datetime64[us](2), float64(11), int64(13)\n",
      "memory usage: 697.0 MB\n"
     ]
    }
   ],
   "source": [
    "df.info()"
   ]
  },
  {
   "cell_type": "markdown",
   "metadata": {},
   "source": [
    "Ahora se debe crear la variable 'zonas cardiacas' para tener un indicador más sencillo. Estas zonas se basan en los niveles de esfuerzo que puede tener el cuerpo, donde a mayor desgaste, mayor será la zona. En este caso, el rango va de uno a cinco.\n",
    "\n",
    "Posteriormente, vamos a descartar datos que estén fuera de valores lógicos, además de los descensos."
   ]
  },
  {
   "cell_type": "code",
   "execution_count": 19,
   "metadata": {},
   "outputs": [],
   "source": [
    "def search_zone(hr_to_search: float, zones: list[float]) -> int:\n",
    "    flag: bool = True\n",
    "    size: int = len(zones)\n",
    "    index: int = size - 1\n",
    "    result: int = 0\n",
    "    while flag and 0 <= index:\n",
    "        if zones[index] <= hr_to_search:\n",
    "            result = index + 1\n",
    "            flag = False\n",
    "        index -= 1            \n",
    "    return result\n",
    "\n",
    "hr_max: int = 190\n",
    "zones: list[float] = []\n",
    "for zone in Constants.HEART_ZONES:\n",
    "    zones.append(int(zone * hr_max))\n",
    "\n",
    "df['zones'] = df['hr'].apply(search_zone, zones=zones)"
   ]
  },
  {
   "cell_type": "code",
   "execution_count": 20,
   "metadata": {},
   "outputs": [],
   "source": [
    "df_filtered = df[\n",
    "    (df['kph'] > 0) &\n",
    "    (df['cad'] > 0) &\n",
    "    (df['hr'] > 0) &\n",
    "    (df['slope'] >= 0) &\n",
    "    (df['zones'] >= 0) &\n",
    "    (~df['weight'].isna())\n",
    "].reset_index()"
   ]
  },
  {
   "cell_type": "code",
   "execution_count": 21,
   "metadata": {},
   "outputs": [
    {
     "data": {
      "text/plain": [
       "(667441, 28)"
      ]
     },
     "execution_count": 21,
     "metadata": {},
     "output_type": "execute_result"
    }
   ],
   "source": [
    "df_filtered.shape"
   ]
  },
  {
   "cell_type": "code",
   "execution_count": 22,
   "metadata": {},
   "outputs": [
    {
     "name": "stdout",
     "output_type": "stream",
     "text": [
      "<class 'pandas.core.frame.DataFrame'>\n",
      "RangeIndex: 667441 entries, 0 to 667440\n",
      "Data columns (total 28 columns):\n",
      " #   Column     Non-Null Count   Dtype         \n",
      "---  ------     --------------   -----         \n",
      " 0   index      667441 non-null  int64         \n",
      " 1   secs       667441 non-null  int64         \n",
      " 2   cad        667441 non-null  float64       \n",
      " 3   hr         667441 non-null  float64       \n",
      " 4   km         667441 non-null  float64       \n",
      " 5   kph        667441 non-null  float64       \n",
      " 6   nm         667441 non-null  int64         \n",
      " 7   watts      667441 non-null  float64       \n",
      " 8   alt        667441 non-null  float64       \n",
      " 9   lon        667441 non-null  float64       \n",
      " 10  lat        667441 non-null  float64       \n",
      " 11  headwind   667441 non-null  int64         \n",
      " 12  slope      667441 non-null  float64       \n",
      " 13  temp       667441 non-null  float64       \n",
      " 14  interval   667441 non-null  int64         \n",
      " 15  lrbalance  667441 non-null  int64         \n",
      " 16  lte        667441 non-null  int64         \n",
      " 17  rte        667441 non-null  int64         \n",
      " 18  lps        667441 non-null  int64         \n",
      " 19  rps        667441 non-null  int64         \n",
      " 20  smo2       667441 non-null  int64         \n",
      " 21  thb        667441 non-null  int64         \n",
      " 22  o2hb       667441 non-null  int64         \n",
      " 23  hhb        667441 non-null  int64         \n",
      " 24  datetime   667441 non-null  datetime64[us]\n",
      " 25  date       667441 non-null  datetime64[us]\n",
      " 26  weight     667441 non-null  float64       \n",
      " 27  zones      667441 non-null  int64         \n",
      "dtypes: datetime64[us](2), float64(11), int64(15)\n",
      "memory usage: 142.6 MB\n"
     ]
    }
   ],
   "source": [
    "df_filtered.info()"
   ]
  },
  {
   "cell_type": "markdown",
   "metadata": {},
   "source": [
    "Después de realizar los cambios, se puede observar que los datos contienen muchas columnas con información en ceros o constante. Por esta razón, ahora se eliminarán esas columnas para hacer la base de datos menos pesada."
   ]
  },
  {
   "cell_type": "code",
   "execution_count": 23,
   "metadata": {},
   "outputs": [
    {
     "name": "stdout",
     "output_type": "stream",
     "text": [
      "Variable: index, Mean: 1,640,778.33\tStd: 1,064,534.33\n",
      "Variable: secs, Mean: 8,598.69\tStd: 6,488.56\n",
      "Variable: cad, Mean: 76.34\tStd: 10.20\n",
      "Variable: hr, Mean: 140.63\tStd: 29.09\n",
      "Variable: km, Mean: 36.85\tStd: 26.56\n",
      "Variable: kph, Mean: 16.04\tStd: 6.98\n",
      "Variable: nm, Mean: 0.00\tStd: 0.00\n",
      "Variable: watts, Mean: 0.04\tStd: 2.12\n",
      "Variable: alt, Mean: 2,134.35\tStd: 736.44\n",
      "Variable: lon, Mean: -73.18\tStd: 8.93\n",
      "Variable: lat, Mean: 4.87\tStd: 0.63\n",
      "Variable: headwind, Mean: 0.00\tStd: 0.00\n",
      "Variable: slope, Mean: 4.52\tStd: 3.25\n",
      "Variable: temp, Mean: 17.20\tStd: 5.46\n",
      "Variable: interval, Mean: 0.00\tStd: 0.00\n",
      "Variable: lrbalance, Mean: -255.00\tStd: 0.00\n",
      "Variable: lte, Mean: 0.00\tStd: 0.00\n",
      "Variable: rte, Mean: 0.00\tStd: 0.00\n",
      "Variable: lps, Mean: 0.00\tStd: 0.00\n",
      "Variable: rps, Mean: 0.00\tStd: 0.00\n",
      "Variable: smo2, Mean: 0.00\tStd: 0.00\n",
      "Variable: thb, Mean: 0.00\tStd: 0.00\n",
      "Variable: o2hb, Mean: 0.00\tStd: 0.00\n",
      "Variable: hhb, Mean: 0.00\tStd: 0.00\n",
      "Variable: weight, Mean: 64.03\tStd: 1.84\n",
      "Variable: zones, Mean: 2.54\tStd: 1.52\n"
     ]
    }
   ],
   "source": [
    "for column in df_filtered.columns:\n",
    "    if not column in ['datetime', 'date']:\n",
    "        print('Variable: {}, Mean: {:,.2f}\\tStd: {:,.2f}'.format(\n",
    "            column, df_filtered[column].mean(), df_filtered[column].std()\n",
    "        ))"
   ]
  },
  {
   "cell_type": "code",
   "execution_count": 24,
   "metadata": {},
   "outputs": [],
   "source": [
    "columns_to_delete: list[str] = []\n",
    "\n",
    "for column in df_filtered.columns:\n",
    "    if (\n",
    "        df_filtered[column].mean() == 0 or \n",
    "        df_filtered[column].std() == 0\n",
    "    ):\n",
    "        columns_to_delete.append(column)\n",
    "df_filtered.drop(columns=columns_to_delete, inplace=True)"
   ]
  },
  {
   "cell_type": "markdown",
   "metadata": {},
   "source": [
    "Se agrega una nueva variable para diferencia cuando el terreno es llano o con elevación."
   ]
  },
  {
   "cell_type": "code",
   "execution_count": 25,
   "metadata": {},
   "outputs": [],
   "source": [
    "df_filtered['is_plain'] = df_filtered['slope'].apply(\n",
    "            lambda x: 1 if x < 1 else 0\n",
    "        )"
   ]
  },
  {
   "cell_type": "code",
   "execution_count": 26,
   "metadata": {},
   "outputs": [
    {
     "name": "stdout",
     "output_type": "stream",
     "text": [
      "<class 'pandas.core.frame.DataFrame'>\n",
      "RangeIndex: 667441 entries, 0 to 667440\n",
      "Data columns (total 17 columns):\n",
      " #   Column    Non-Null Count   Dtype         \n",
      "---  ------    --------------   -----         \n",
      " 0   index     667441 non-null  int64         \n",
      " 1   secs      667441 non-null  int64         \n",
      " 2   cad       667441 non-null  float64       \n",
      " 3   hr        667441 non-null  float64       \n",
      " 4   km        667441 non-null  float64       \n",
      " 5   kph       667441 non-null  float64       \n",
      " 6   watts     667441 non-null  float64       \n",
      " 7   alt       667441 non-null  float64       \n",
      " 8   lon       667441 non-null  float64       \n",
      " 9   lat       667441 non-null  float64       \n",
      " 10  slope     667441 non-null  float64       \n",
      " 11  temp      667441 non-null  float64       \n",
      " 12  datetime  667441 non-null  datetime64[us]\n",
      " 13  date      667441 non-null  datetime64[us]\n",
      " 14  weight    667441 non-null  float64       \n",
      " 15  zones     667441 non-null  int64         \n",
      " 16  is_plain  667441 non-null  int64         \n",
      "dtypes: datetime64[us](2), float64(11), int64(4)\n",
      "memory usage: 86.6 MB\n"
     ]
    }
   ],
   "source": [
    "df_filtered.info()"
   ]
  }
 ],
 "metadata": {
  "kernelspec": {
   "display_name": "Machine_Learning",
   "language": "python",
   "name": "python3"
  },
  "language_info": {
   "codemirror_mode": {
    "name": "ipython",
    "version": 3
   },
   "file_extension": ".py",
   "mimetype": "text/x-python",
   "name": "python",
   "nbconvert_exporter": "python",
   "pygments_lexer": "ipython3",
   "version": "3.11.6"
  }
 },
 "nbformat": 4,
 "nbformat_minor": 2
}
